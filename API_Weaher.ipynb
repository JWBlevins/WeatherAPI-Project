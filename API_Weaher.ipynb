{
 "cells": [
  {
   "cell_type": "code",
   "execution_count": null,
   "id": "cb72b2f4",
   "metadata": {},
   "outputs": [],
   "source": [
    "baseurl = \"http://api.weatherapi.com/v1\"\n",
    "\n",
    "janeth_key = \"your_real_api_key\""
   ]
  },
  {
   "cell_type": "code",
   "execution_count": null,
   "id": "460b4d0b",
   "metadata": {},
   "outputs": [],
   "source": [
    "# http://api.weatherapi.com/v1/current.json?key=janeth_key&q=London\n",
    "\n"
   ]
  },
  {
   "cell_type": "code",
   "execution_count": 5,
   "id": "e5c3f284",
   "metadata": {},
   "outputs": [],
   "source": [
    "import requests\n",
    "import pandas as pd"
   ]
  },
  {
   "cell_type": "code",
   "execution_count": null,
   "id": "d726fbc2",
   "metadata": {},
   "outputs": [],
   "source": [
    "city = \"Louisville\"\n",
    "baseurl = f\"http://api.weatherapi.com/v1/current.json?key='janeth-key'&q={city}\"\n",
    "response = requests.get(baseurl)"
   ]
  },
  {
   "cell_type": "code",
   "execution_count": 7,
   "id": "8f1eb487",
   "metadata": {},
   "outputs": [
    {
     "data": {
      "text/plain": [
       "200"
      ]
     },
     "execution_count": 7,
     "metadata": {},
     "output_type": "execute_result"
    }
   ],
   "source": [
    "response.status_code"
   ]
  },
  {
   "cell_type": "code",
   "execution_count": 8,
   "id": "b7b327e9",
   "metadata": {},
   "outputs": [
    {
     "data": {
      "text/plain": [
       "{'location': {'name': 'Louisville',\n",
       "  'region': 'Kentucky',\n",
       "  'country': 'United States of America',\n",
       "  'lat': 38.2542,\n",
       "  'lon': -85.7594,\n",
       "  'tz_id': 'America/Kentucky/Louisville',\n",
       "  'localtime_epoch': 1756945705,\n",
       "  'localtime': '2025-09-03 20:28'},\n",
       " 'current': {'last_updated_epoch': 1756944900,\n",
       "  'last_updated': '2025-09-03 20:15',\n",
       "  'temp_c': 28.3,\n",
       "  'temp_f': 82.9,\n",
       "  'is_day': 0,\n",
       "  'condition': {'text': 'Partly cloudy',\n",
       "   'icon': '//cdn.weatherapi.com/weather/64x64/night/116.png',\n",
       "   'code': 1003},\n",
       "  'wind_mph': 2.5,\n",
       "  'wind_kph': 4.0,\n",
       "  'wind_degree': 251,\n",
       "  'wind_dir': 'WSW',\n",
       "  'pressure_mb': 1009.0,\n",
       "  'pressure_in': 29.78,\n",
       "  'precip_mm': 0.0,\n",
       "  'precip_in': 0.0,\n",
       "  'humidity': 37,\n",
       "  'cloud': 50,\n",
       "  'feelslike_c': 29.3,\n",
       "  'feelslike_f': 84.8,\n",
       "  'windchill_c': 26.7,\n",
       "  'windchill_f': 80.1,\n",
       "  'heatindex_c': 27.5,\n",
       "  'heatindex_f': 81.5,\n",
       "  'dewpoint_c': 16.0,\n",
       "  'dewpoint_f': 60.7,\n",
       "  'vis_km': 16.0,\n",
       "  'vis_miles': 9.0,\n",
       "  'uv': 0.0,\n",
       "  'gust_mph': 5.1,\n",
       "  'gust_kph': 8.2,\n",
       "  'short_rad': 0,\n",
       "  'diff_rad': 0,\n",
       "  'dni': 0,\n",
       "  'gti': 0}}"
      ]
     },
     "execution_count": 8,
     "metadata": {},
     "output_type": "execute_result"
    }
   ],
   "source": [
    "data = response.json()\n",
    "data"
   ]
  },
  {
   "cell_type": "code",
   "execution_count": 9,
   "id": "9667ea90",
   "metadata": {},
   "outputs": [],
   "source": [
    "current = data['current']\n",
    "location = data['location']\n",
    "temp_f = current['temp_f']\n",
    "wind_mph = current['wind_mph']\n",
    "humidity = current['humidity']"
   ]
  },
  {
   "cell_type": "code",
   "execution_count": 10,
   "id": "83397e43",
   "metadata": {},
   "outputs": [
    {
     "data": {
      "text/plain": [
       "(82.9, 37)"
      ]
     },
     "execution_count": 10,
     "metadata": {},
     "output_type": "execute_result"
    }
   ],
   "source": [
    "temp_f, humidity"
   ]
  },
  {
   "cell_type": "code",
   "execution_count": null,
   "id": "0a730594",
   "metadata": {},
   "outputs": [],
   "source": [
    "def get_weather(city):\n",
    "    url = f\"http://api.weatherapi.com/v1/current.json?key='janeth_key'&q={city}\"\n",
    "    response = requests.get() \n",
    "    response = requests.get(url)\n",
    "    \n",
    "    if response.status_code == 200:\n",
    "        data = response.json()\n",
    "        current = data['current']\n",
    "        location = data['location']\n",
    "        temp_f = current['temp_f']\n",
    "        wind_mph = current['wind_mph']\n",
    "        humidity = current['humidity']\n",
    "        \n",
    "        print(f\"Weather for {location['name']}, {location['region' ]}\")\n",
    "        print(f\"Temperature: {current['temp_f']} °F / {current['temp_c']} C\")\n",
    "        print(f\"Condition: {current['condition']['text']}\")\n",
    "        print(f\"Humidity: {current['humidity']}%\")\n",
    "        print(f\"Wind Speed: {current['wind_mph']} mph\")\n",
    "        \n",
    "    else:\n",
    "        print(f\"error fetching data for {city}: {response.status_code}\")\n",
    "        "
   ]
  },
  {
   "cell_type": "code",
   "execution_count": 12,
   "id": "859f7b18",
   "metadata": {},
   "outputs": [
    {
     "name": "stdout",
     "output_type": "stream",
     "text": [
      "Weather for Lihue, Hawaii\n",
      "Temperature: 84.4 °F / 29.1 C\n",
      "Condition: Patchy rain nearby\n",
      "Humidity: 55%\n",
      "Wind Speed: 10.7 mph\n"
     ]
    }
   ],
   "source": [
    "get_weather(\"Lihue\")\n"
   ]
  },
  {
   "cell_type": "code",
   "execution_count": 13,
   "id": "9d9d1b82",
   "metadata": {},
   "outputs": [
    {
     "name": "stdout",
     "output_type": "stream",
     "text": [
      "Weather for Lexington-Fayette, Kentucky\n",
      "Temperature: 77.7 °F / 25.4 C\n",
      "Condition: Partly Cloudy\n",
      "Humidity: 57%\n",
      "Wind Speed: 9.2 mph\n"
     ]
    }
   ],
   "source": [
    "get_weather(\"Lexington\")"
   ]
  },
  {
   "cell_type": "code",
   "execution_count": 14,
   "id": "fa8993ad",
   "metadata": {},
   "outputs": [
    {
     "name": "stdout",
     "output_type": "stream",
     "text": [
      "Weather for Bogota, Cundinamarca\n",
      "Temperature: 61.0 °F / 16.1 C\n",
      "Condition: Partly cloudy\n",
      "Humidity: 77%\n",
      "Wind Speed: 2.9 mph\n"
     ]
    }
   ],
   "source": [
    "get_weather(\"Bogota\")"
   ]
  },
  {
   "cell_type": "code",
   "execution_count": null,
   "id": "6bde2013",
   "metadata": {},
   "outputs": [
    {
     "name": "stdout",
     "output_type": "stream",
     "text": [
      "Error fetching data\n"
     ]
    }
   ],
   "source": [
    "cities = [\"Kapaa\", \"Louisville\", \"Bogota\", \"Morehead\", \"New York\"]\n",
    "weather_data =[]\n",
    "for city in cities:\n",
    "    url = f\"http://api.weatherapi.com/v1/current.json?key='janeth_key'&q={city}\"\n",
    "    response = requests.get(url)\n",
    "    \n",
    "    if response.status_code == 200:\n",
    "        data = response.json()\n",
    "        weather_data.append({\n",
    "          \"City\": data['location']['name'],\n",
    "          \"Temperature\": data['current']['temp_f'],    \n",
    "          \"Condition\": data['current']['condition']['text'],\n",
    "          \"Humidity\": data['current']['humidity'],\n",
    "          \"Wind Speed\": data['current']['wind_mph'], })\n",
    "        \n",
    "        \n",
    "else:\n",
    "    print(\"Error fetching data\")\n",
    "    "
   ]
  },
  {
   "cell_type": "code",
   "execution_count": 23,
   "id": "ba449da3",
   "metadata": {},
   "outputs": [
    {
     "data": {
      "text/plain": [
       "[{'City': 'Kapaa',\n",
       "  'Temperature': 84.7,\n",
       "  'Condition': 'Patchy rain nearby',\n",
       "  'Humidity': 55,\n",
       "  'Wind Speed': 10.7},\n",
       " {'City': 'Louisville',\n",
       "  'Temperature': 81.0,\n",
       "  'Condition': 'Overcast',\n",
       "  'Humidity': 38,\n",
       "  'Wind Speed': 2.5},\n",
       " {'City': 'Bogota',\n",
       "  'Temperature': 61.0,\n",
       "  'Condition': 'Partly cloudy',\n",
       "  'Humidity': 77,\n",
       "  'Wind Speed': 2.9},\n",
       " {'City': 'Morehead',\n",
       "  'Temperature': 82.6,\n",
       "  'Condition': 'Light drizzle',\n",
       "  'Humidity': 71,\n",
       "  'Wind Speed': 8.1},\n",
       " {'City': 'New York',\n",
       "  'Temperature': 68.2,\n",
       "  'Condition': 'Clear',\n",
       "  'Humidity': 59,\n",
       "  'Wind Speed': 9.6}]"
      ]
     },
     "execution_count": 23,
     "metadata": {},
     "output_type": "execute_result"
    }
   ],
   "source": [
    "weather_data"
   ]
  },
  {
   "cell_type": "code",
   "execution_count": 24,
   "id": "054758fc",
   "metadata": {},
   "outputs": [],
   "source": [
    "weather_df = pd.DataFrame(weather_data)"
   ]
  },
  {
   "cell_type": "code",
   "execution_count": 25,
   "id": "cbb1a36c",
   "metadata": {},
   "outputs": [
    {
     "data": {
      "application/vnd.microsoft.datawrangler.viewer.v0+json": {
       "columns": [
        {
         "name": "index",
         "rawType": "int64",
         "type": "integer"
        },
        {
         "name": "City",
         "rawType": "object",
         "type": "string"
        },
        {
         "name": "Temperature",
         "rawType": "float64",
         "type": "float"
        },
        {
         "name": "Condition",
         "rawType": "object",
         "type": "string"
        },
        {
         "name": "Humidity",
         "rawType": "int64",
         "type": "integer"
        },
        {
         "name": "Wind Speed",
         "rawType": "float64",
         "type": "float"
        }
       ],
       "ref": "e59a1853-5a3d-4d57-82b0-517feb42b84f",
       "rows": [
        [
         "0",
         "Kapaa",
         "84.7",
         "Patchy rain nearby",
         "55",
         "10.7"
        ],
        [
         "1",
         "Louisville",
         "81.0",
         "Overcast",
         "38",
         "2.5"
        ],
        [
         "2",
         "Bogota",
         "61.0",
         "Partly cloudy",
         "77",
         "2.9"
        ],
        [
         "3",
         "Morehead",
         "82.6",
         "Light drizzle",
         "71",
         "8.1"
        ],
        [
         "4",
         "New York",
         "68.2",
         "Clear",
         "59",
         "9.6"
        ]
       ],
       "shape": {
        "columns": 5,
        "rows": 5
       }
      },
      "text/html": [
       "<div>\n",
       "<style scoped>\n",
       "    .dataframe tbody tr th:only-of-type {\n",
       "        vertical-align: middle;\n",
       "    }\n",
       "\n",
       "    .dataframe tbody tr th {\n",
       "        vertical-align: top;\n",
       "    }\n",
       "\n",
       "    .dataframe thead th {\n",
       "        text-align: right;\n",
       "    }\n",
       "</style>\n",
       "<table border=\"1\" class=\"dataframe\">\n",
       "  <thead>\n",
       "    <tr style=\"text-align: right;\">\n",
       "      <th></th>\n",
       "      <th>City</th>\n",
       "      <th>Temperature</th>\n",
       "      <th>Condition</th>\n",
       "      <th>Humidity</th>\n",
       "      <th>Wind Speed</th>\n",
       "    </tr>\n",
       "  </thead>\n",
       "  <tbody>\n",
       "    <tr>\n",
       "      <th>0</th>\n",
       "      <td>Kapaa</td>\n",
       "      <td>84.7</td>\n",
       "      <td>Patchy rain nearby</td>\n",
       "      <td>55</td>\n",
       "      <td>10.7</td>\n",
       "    </tr>\n",
       "    <tr>\n",
       "      <th>1</th>\n",
       "      <td>Louisville</td>\n",
       "      <td>81.0</td>\n",
       "      <td>Overcast</td>\n",
       "      <td>38</td>\n",
       "      <td>2.5</td>\n",
       "    </tr>\n",
       "    <tr>\n",
       "      <th>2</th>\n",
       "      <td>Bogota</td>\n",
       "      <td>61.0</td>\n",
       "      <td>Partly cloudy</td>\n",
       "      <td>77</td>\n",
       "      <td>2.9</td>\n",
       "    </tr>\n",
       "    <tr>\n",
       "      <th>3</th>\n",
       "      <td>Morehead</td>\n",
       "      <td>82.6</td>\n",
       "      <td>Light drizzle</td>\n",
       "      <td>71</td>\n",
       "      <td>8.1</td>\n",
       "    </tr>\n",
       "    <tr>\n",
       "      <th>4</th>\n",
       "      <td>New York</td>\n",
       "      <td>68.2</td>\n",
       "      <td>Clear</td>\n",
       "      <td>59</td>\n",
       "      <td>9.6</td>\n",
       "    </tr>\n",
       "  </tbody>\n",
       "</table>\n",
       "</div>"
      ],
      "text/plain": [
       "         City  Temperature           Condition  Humidity  Wind Speed\n",
       "0       Kapaa         84.7  Patchy rain nearby        55        10.7\n",
       "1  Louisville         81.0            Overcast        38         2.5\n",
       "2      Bogota         61.0       Partly cloudy        77         2.9\n",
       "3    Morehead         82.6       Light drizzle        71         8.1\n",
       "4    New York         68.2               Clear        59         9.6"
      ]
     },
     "execution_count": 25,
     "metadata": {},
     "output_type": "execute_result"
    }
   ],
   "source": [
    "weather_df.head()"
   ]
  },
  {
   "cell_type": "code",
   "execution_count": 26,
   "id": "6152972c",
   "metadata": {},
   "outputs": [],
   "source": [
    "weather_df.to_csv(\"sample_weather_data.csv\", index=False)"
   ]
  }
 ],
 "metadata": {
  "kernelspec": {
   "display_name": "Python 3",
   "language": "python",
   "name": "python3"
  },
  "language_info": {
   "codemirror_mode": {
    "name": "ipython",
    "version": 3
   },
   "file_extension": ".py",
   "mimetype": "text/x-python",
   "name": "python",
   "nbconvert_exporter": "python",
   "pygments_lexer": "ipython3",
   "version": "3.13.5"
  }
 },
 "nbformat": 4,
 "nbformat_minor": 5
}
